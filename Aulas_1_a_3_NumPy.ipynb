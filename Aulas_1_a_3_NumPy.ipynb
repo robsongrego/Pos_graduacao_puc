{
  "nbformat": 4,
  "nbformat_minor": 0,
  "metadata": {
    "colab": {
      "provenance": [],
      "include_colab_link": true
    },
    "kernelspec": {
      "name": "python3",
      "display_name": "Python 3"
    },
    "language_info": {
      "name": "python"
    }
  },
  "cells": [
    {
      "cell_type": "markdown",
      "metadata": {
        "id": "view-in-github",
        "colab_type": "text"
      },
      "source": [
        "<a href=\"https://colab.research.google.com/github/robsongrego/Pos_graduacao_puc/blob/main/Aulas_1_a_3_NumPy.ipynb\" target=\"_parent\"><img src=\"https://colab.research.google.com/assets/colab-badge.svg\" alt=\"Open In Colab\"/></a>"
      ]
    },
    {
      "cell_type": "markdown",
      "source": [
        "\n",
        "# Aula 01 - NumPy (Arrays) + Introdução ao Git\n",
        "\n",
        "Documentação do Numpy: https://numpy.org/doc/stable/user/index.html\n",
        "\n",
        "Então vamos instalar essa bagaça!"
      ],
      "metadata": {
        "id": "awMK31QRVYpR"
      }
    },
    {
      "cell_type": "code",
      "execution_count": null,
      "metadata": {
        "colab": {
          "base_uri": "https://localhost:8080/"
        },
        "id": "T5iPfN_9VUpe",
        "outputId": "c0a722e1-7a0d-4a1c-91d9-40d930b09f8d"
      },
      "outputs": [
        {
          "output_type": "stream",
          "name": "stdout",
          "text": [
            "Requirement already satisfied: numpy in /usr/local/lib/python3.10/dist-packages (1.22.4)\n"
          ]
        }
      ],
      "source": [
        "pip install numpy"
      ]
    },
    {
      "cell_type": "markdown",
      "source": [
        "Por que utilizar o NumPy no lugar de listas?"
      ],
      "metadata": {
        "id": "XY1nF2IeXd6l"
      }
    },
    {
      "cell_type": "code",
      "source": [
        "import numpy as np\n",
        "\n",
        "lista_notas = [3.4, 5.6, 7.8, 0.2, 5.6, 8.4, 1.5]\n",
        "\n",
        "# for nota in lista_notas:\n",
        "#   nota += 1\n",
        "\n",
        "# Acessando posição por posição da lista e alterando diretamente nela\n",
        "# for i in range(len(lista_notas)):\n",
        "#   lista_notas[i] += 1\n",
        "\n",
        "# for i, _ in enumerate(lista_notas):\n",
        "#   lista_notas[i] += 1\n",
        "\n",
        "# Sobrescrevendo a variável original com uma nova lista alterada com base na original\n",
        "# lista_notas = [nota + 1 for nota in lista_notas]\n",
        "\n",
        "print(lista_notas)\n",
        "print(type(lista_notas))\n",
        "\n",
        "lista_notas = np.array(lista_notas)\n",
        "\n",
        "print(lista_notas)\n",
        "print(type(lista_notas))\n",
        "\n",
        "lista_notas += 1\n",
        "\n",
        "lista_notas *= 2\n",
        "\n",
        "lista_notas /= 1.8\n",
        "\n",
        "# Todas as operações matemáticas agora podem ser feitas diretamente na variável que guarda o ndarray (+, -, *, /, **)\n",
        "# lista_notas[3] += 1\n",
        "\n",
        "print(lista_notas)"
      ],
      "metadata": {
        "colab": {
          "base_uri": "https://localhost:8080/"
        },
        "id": "jbyG9yYFXghU",
        "outputId": "f3c92357-2ad1-40da-a0da-e1e4a276884d"
      },
      "execution_count": null,
      "outputs": [
        {
          "output_type": "stream",
          "name": "stdout",
          "text": [
            "[3.4, 5.6, 7.8, 0.2, 5.6, 8.4, 1.5]\n",
            "<class 'list'>\n",
            "[3.4 5.6 7.8 0.2 5.6 8.4 1.5]\n",
            "<class 'numpy.ndarray'>\n",
            "[ 4.88888889  7.33333333  9.77777778  1.33333333  7.33333333 10.44444444\n",
            "  2.77777778]\n"
          ]
        }
      ]
    },
    {
      "cell_type": "markdown",
      "source": [
        "\n",
        "\n",
        "Eu consigo somar duas listas?"
      ],
      "metadata": {
        "id": "bdZnZ2SVV_CG"
      }
    },
    {
      "cell_type": "code",
      "source": [
        "lista_notas_extra = [0.2, 0.7, 0.3, 0.7, 0.7, 0]\n",
        "\n",
        "# Aqui estou simplesmente printando o resultado da operação e não sobrescrevendo o array original\n",
        "print(lista_notas + lista_notas_extra)\n",
        "\n",
        "# O código acima resulta em erro, pois os operandos tem tamanhos diferentes\n",
        "print(lista_notas - lista_notas_extra)\n",
        "print(lista_notas * lista_notas_extra)\n",
        "print(lista_notas)\n"
      ],
      "metadata": {
        "colab": {
          "base_uri": "https://localhost:8080/",
          "height": 235
        },
        "id": "sKG6qJjtXAp8",
        "outputId": "de9fd240-1374-45f5-ea79-ff3eced82c23"
      },
      "execution_count": null,
      "outputs": [
        {
          "output_type": "error",
          "ename": "ValueError",
          "evalue": "ignored",
          "traceback": [
            "\u001b[0;31m---------------------------------------------------------------------------\u001b[0m",
            "\u001b[0;31mValueError\u001b[0m                                Traceback (most recent call last)",
            "\u001b[0;32m<ipython-input-23-70b9847bd636>\u001b[0m in \u001b[0;36m<cell line: 4>\u001b[0;34m()\u001b[0m\n\u001b[1;32m      2\u001b[0m \u001b[0;34m\u001b[0m\u001b[0m\n\u001b[1;32m      3\u001b[0m \u001b[0;31m# Aqui estou simplesmente printando o resultado da operação e não sobrescrevendo o array original\u001b[0m\u001b[0;34m\u001b[0m\u001b[0;34m\u001b[0m\u001b[0m\n\u001b[0;32m----> 4\u001b[0;31m \u001b[0mprint\u001b[0m\u001b[0;34m(\u001b[0m\u001b[0mlista_notas\u001b[0m \u001b[0;34m+\u001b[0m \u001b[0mlista_notas_extra\u001b[0m\u001b[0;34m)\u001b[0m\u001b[0;34m\u001b[0m\u001b[0;34m\u001b[0m\u001b[0m\n\u001b[0m\u001b[1;32m      5\u001b[0m \u001b[0mprint\u001b[0m\u001b[0;34m(\u001b[0m\u001b[0mlista_notas\u001b[0m \u001b[0;34m-\u001b[0m \u001b[0mlista_notas_extra\u001b[0m\u001b[0;34m)\u001b[0m\u001b[0;34m\u001b[0m\u001b[0;34m\u001b[0m\u001b[0m\n\u001b[1;32m      6\u001b[0m \u001b[0mprint\u001b[0m\u001b[0;34m(\u001b[0m\u001b[0mlista_notas\u001b[0m \u001b[0;34m*\u001b[0m \u001b[0mlista_notas_extra\u001b[0m\u001b[0;34m)\u001b[0m\u001b[0;34m\u001b[0m\u001b[0;34m\u001b[0m\u001b[0m\n",
            "\u001b[0;31mValueError\u001b[0m: operands could not be broadcast together with shapes (7,) (6,) "
          ]
        }
      ]
    },
    {
      "cell_type": "markdown",
      "source": [
        "Como eu faço pra inicializar um array já sabendo o tamanho dele?"
      ],
      "metadata": {
        "id": "4o2DU7THzKgJ"
      }
    },
    {
      "cell_type": "code",
      "source": [
        "lista_notas_extra = [0.3] * len(lista_notas)\n",
        "lista_notas_extra = np.full(len(lista_notas), 0.3)\n",
        "lista_notas_extra2 = np.zeros(len(lista_notas))\n",
        "lista_notas_extra3 = np.ones(len(lista_notas))\n",
        "print(lista_notas_extra)\n",
        "print(lista_notas_extra2)\n",
        "print(lista_notas_extra3)\n",
        "\n",
        "print(\"\\n\")\n",
        "print(\"Número de dimensões:\", np.ndim(lista_notas_extra3))\n",
        "print(\"Número de elementos em cada dimensão:\", np.shape(lista_notas_extra3))\n",
        "print(\"\\n\")\n",
        "\n",
        "# Aqui estou simplesmente printando o resultado da operação e não sobrescrevendo o array original\n",
        "print(lista_notas + lista_notas_extra)\n",
        "\n",
        "# O código acima resulta em erro, pois os operandos tem tamanhos diferentes\n",
        "print(lista_notas - lista_notas_extra)\n",
        "print(lista_notas * lista_notas_extra)\n",
        "print(lista_notas)\n"
      ],
      "metadata": {
        "colab": {
          "base_uri": "https://localhost:8080/"
        },
        "id": "_dVa3pa2F-J6",
        "outputId": "415648c5-3ded-400c-e4f1-e9b3ad624ae5"
      },
      "execution_count": null,
      "outputs": [
        {
          "output_type": "stream",
          "name": "stdout",
          "text": [
            "[0.3 0.3 0.3 0.3 0.3 0.3 0.3]\n",
            "[0. 0. 0. 0. 0. 0. 0.]\n",
            "[1. 1. 1. 1. 1. 1. 1.]\n",
            "\n",
            "\n",
            "Número de dimensões: 1\n",
            "Número de elementos em cada dimensão: (7,)\n",
            "\n",
            "\n",
            "[ 5.18888889  7.63333333 10.07777778  1.63333333  7.63333333 10.74444444\n",
            "  3.07777778]\n",
            "[ 4.58888889  7.03333333  9.47777778  1.03333333  7.03333333 10.14444444\n",
            "  2.47777778]\n",
            "[1.46666667 2.2        2.93333333 0.4        2.2        3.13333333\n",
            " 0.83333333]\n",
            "[ 4.88888889  7.33333333  9.77777778  1.33333333  7.33333333 10.44444444\n",
            "  2.77777778]\n"
          ]
        }
      ]
    },
    {
      "cell_type": "markdown",
      "source": [
        "Okay, mas eu quero começar a filtrar o conteúdo do meu array..."
      ],
      "metadata": {
        "id": "SeK8wa_PWLJX"
      }
    },
    {
      "cell_type": "code",
      "source": [
        "for nota in lista_notas:\n",
        "  if nota > 6:\n",
        "    print(nota)\n",
        "\n",
        "print(lista_notas > 6)\n",
        "filtro = lista_notas > 6 # condição lógica\n",
        "\n",
        "# Quando eu quiser filtrar o conteúdo do meu array com base em uma comparação, eu aplico a seguinte sintaxe\n",
        "print(lista_notas[filtro])"
      ],
      "metadata": {
        "colab": {
          "base_uri": "https://localhost:8080/"
        },
        "id": "ACFIsINFXBTl",
        "outputId": "aa18ce90-aa6d-49dd-94ec-f16b20db84e9"
      },
      "execution_count": null,
      "outputs": [
        {
          "output_type": "stream",
          "name": "stdout",
          "text": [
            "7.333333333333333\n",
            "9.777777777777779\n",
            "7.333333333333333\n",
            "10.444444444444445\n",
            "[False  True  True False  True  True False]\n",
            "[ 7.33333333  9.77777778  7.33333333 10.44444444]\n"
          ]
        }
      ]
    },
    {
      "cell_type": "markdown",
      "source": [
        "Mas eu quero aplicar mais de uma condição, e agora?"
      ],
      "metadata": {
        "id": "7gN0cjYAWXUA"
      }
    },
    {
      "cell_type": "code",
      "source": [
        "# filtro_faixa = 6 < lista_notas < 9 -> esta linha dá ruim, porque esta operação conjunta não foi implementada para o ndarray\n",
        "# filtro_faixa = lista_notas > 6 and lista_notas < 9 -> esta linha também dá ruim...\n",
        "filtro_faixa = (lista_notas > 6) & (lista_notas < 9) # and\n",
        "print(filtro_faixa)\n",
        "print(lista_notas[filtro_faixa])\n",
        "\n",
        "lista_notas_final = np.array([7, 6, 7, 8, 6, 7, 5])\n",
        "filtro_faixa = (lista_notas > 5) | (lista_notas_final >= 7) # or\n",
        "print(filtro_faixa)\n",
        "print(lista_notas[filtro_faixa])"
      ],
      "metadata": {
        "id": "VyCDhEWAXB0a"
      },
      "execution_count": null,
      "outputs": []
    },
    {
      "cell_type": "markdown",
      "source": [
        "# Aula 02 - NumPy (Arrays/Matrix/Tensor)"
      ],
      "metadata": {
        "id": "l1neXmqBWcBV"
      }
    },
    {
      "cell_type": "markdown",
      "source": [
        "Vamos imaginar que temos um array de notas de um único aluno..."
      ],
      "metadata": {
        "id": "Rx0vPttXzjH2"
      }
    },
    {
      "cell_type": "code",
      "source": [
        "array_aluno = np.array([6.7, 3.2, 8.5])\n",
        "print(array_aluno)"
      ],
      "metadata": {
        "id": "X7tobyrMXCV_",
        "colab": {
          "base_uri": "https://localhost:8080/"
        },
        "outputId": "38bdd636-36d5-4044-b43e-3d58ad085fd5"
      },
      "execution_count": null,
      "outputs": [
        {
          "output_type": "stream",
          "name": "stdout",
          "text": [
            "[6.7 3.2 8.5]\n"
          ]
        }
      ]
    },
    {
      "cell_type": "markdown",
      "source": [
        "Mas e se tivéssemos mais de um alunos?"
      ],
      "metadata": {
        "id": "0mKN-1rDWmJ0"
      }
    },
    {
      "cell_type": "code",
      "source": [
        "matrix_alunos = np.array([\n",
        "    [6.7, 3.2, 8.5],\n",
        "    [3.1, 3.7, 2.6],\n",
        "    [8.7, 9.1, 7.4],\n",
        "    [0.2, 0, 2],\n",
        "])\n",
        "print(matrix_alunos)\n",
        "print(type(matrix_alunos))\n",
        "\n",
        "lista_alunos = [6.7, 3.2, 8.5, 3.1, 3.7, 2.6, 8.7, 9.1, 7.4, 0.2, 0, 2,]\n",
        "matrix_alunos = np.array(lista_alunos).reshape(4, 3)\n",
        "print(matrix_alunos)\n",
        "\n",
        "print(matrix_alunos * 1.2)\n",
        "# print(matrix_alunos + [0.5, 0.3, 0, 0.2]) -> Não funciona, pois precisa ter o mesmo tamanho da segunda dimensão da matriz\n",
        "print(matrix_alunos + [0.5, 0.3, 0])"
      ],
      "metadata": {
        "id": "Lwe78sinXCzs",
        "colab": {
          "base_uri": "https://localhost:8080/"
        },
        "outputId": "34e8d096-ca8e-409e-fe90-b4ca21c21f5a"
      },
      "execution_count": null,
      "outputs": [
        {
          "output_type": "stream",
          "name": "stdout",
          "text": [
            "[[6.7 3.2 8.5]\n",
            " [3.1 3.7 2.6]\n",
            " [8.7 9.1 7.4]\n",
            " [0.2 0.  2. ]]\n",
            "<class 'numpy.ndarray'>\n",
            "[[6.7 3.2 8.5]\n",
            " [3.1 3.7 2.6]\n",
            " [8.7 9.1 7.4]\n",
            " [0.2 0.  2. ]]\n",
            "[[ 8.04  3.84 10.2 ]\n",
            " [ 3.72  4.44  3.12]\n",
            " [10.44 10.92  8.88]\n",
            " [ 0.24  0.    2.4 ]]\n",
            "[[7.2 3.5 8.5]\n",
            " [3.6 4.  2.6]\n",
            " [9.2 9.4 7.4]\n",
            " [0.7 0.3 2. ]]\n"
          ]
        }
      ]
    },
    {
      "cell_type": "markdown",
      "source": [
        "Não gostei, eu quero que as provas sejam as linhas e os alunos as colunas..."
      ],
      "metadata": {
        "id": "GoWzznQj0xM5"
      }
    },
    {
      "cell_type": "code",
      "source": [
        "matrix_alunos_transposta = np.array([\n",
        "    # [6.7, 3.2, 8.5],\n",
        "    # [3.1, 3.7, 2.6],\n",
        "    # [8.7, 9.1, 7.4],\n",
        "    # [0.2, 0, 2],\n",
        "    [6.7, 3.1, 8.7, 0.2], # P1\n",
        "    [3.2, 3.7, 9.1, 0], # P2\n",
        "    [8.5, 2.6, 7.4, 2], # P3\n",
        "])\n",
        "print(matrix_alunos_transposta)\n",
        "print(matrix_alunos.T)\n",
        "print(matrix_alunos)\n",
        "\n",
        "print(\"Acessando a segunda nota do terceiro aluno:\", matrix_alunos[2][1])\n",
        "print(\"Acessando a segunda nota do terceiro aluno:\", matrix_alunos[2, 1])\n",
        "print(\"Acessando a segunda nota do terceiro aluno:\", matrix_alunos.T[1][2])\n",
        "print(\"Acessando a segunda nota do terceiro aluno:\", matrix_alunos.T[1, 2])\n",
        "\n",
        "pesos_array = np.array([2, 3, 4])\n",
        "print(pesos_array)\n",
        "print(matrix_alunos * [2, 3, 4])\n",
        "\n",
        "produto_escalar = matrix_alunos @ pesos_array # soma das notas multiplicadas pelos seus respectivos pesos\n",
        "# produto_escalar = matrix_alunos.dot(pesos_array) # soma das notas multiplicadas pelos seus respectivos pesos\n",
        "print(produto_escalar)\n",
        "\n",
        "soma_dos_pesos = pesos_array.sum()\n",
        "# print(sum(pesos_array))\n",
        "media_dos_alunos = produto_escalar/soma_dos_pesos\n",
        "print('Média da turma:', media_dos_alunos.sum()/4)\n",
        "\n",
        "media_da_turma = produto_escalar.sum()/(pesos_array.sum() * 4)\n",
        "print('Média da turma:', media_da_turma)\n",
        "\n",
        "print(matrix_alunos.T.sum()) # Somamos todos os valores da matriz\n",
        "print(matrix_alunos.T.sum(axis=1)) # Somamos os valores da matriz por linha\n",
        "print(matrix_alunos.T.sum(axis=0)) # Somamos os valores da matriz por coluna\n",
        "\n",
        "print(matrix_alunos.mean()) # Média de todos os valores da matriz\n",
        "print(matrix_alunos.mean(axis=1)) # Média para cada linha da matriz\n",
        "print(matrix_alunos.mean(axis=0)) # Média para cada coluna da matriz\n",
        "\n",
        "print(matrix_alunos.min(axis=1)) # A menor nota dentre as notas de cada aluno\n",
        "print(matrix_alunos.max()) # A maior nota dentre todas as notas\n",
        "print(matrix_alunos.mean(axis=1).max()) # A maior média dentre os alunos"
      ],
      "metadata": {
        "colab": {
          "base_uri": "https://localhost:8080/",
          "height": 738
        },
        "id": "fXo_VKqh02ID",
        "outputId": "43d80d00-6825-4313-8578-a4b84e8f893a"
      },
      "execution_count": null,
      "outputs": [
        {
          "output_type": "stream",
          "name": "stdout",
          "text": [
            "[[6.7 3.1 8.7 0.2]\n",
            " [3.2 3.7 9.1 0. ]\n",
            " [8.5 2.6 7.4 2. ]]\n",
            "[[6.7 3.1 8.7 0.2]\n",
            " [3.2 3.7 9.1 0. ]\n",
            " [8.5 2.6 7.4 2. ]]\n",
            "[[6.7 3.2 8.5]\n",
            " [3.1 3.7 2.6]\n",
            " [8.7 9.1 7.4]\n",
            " [0.2 0.  2. ]]\n",
            "Acessando a segunda nota do terceiro aluno: 9.1\n",
            "Acessando a segunda nota do terceiro aluno: 9.1\n",
            "Acessando a segunda nota do terceiro aluno: 9.1\n",
            "Acessando a segunda nota do terceiro aluno: 9.1\n",
            "[2 3 4]\n",
            "[[13.4  9.6 34. ]\n",
            " [ 6.2 11.1 10.4]\n",
            " [17.4 27.3 29.6]\n",
            " [ 0.4  0.   8. ]]\n",
            "[57.  27.7 74.3  8.4]\n",
            "Média da turma: 4.6499999999999995\n",
            "Média da turma: 4.65\n",
            "55.199999999999996\n",
            "[18.7 16.  20.5]\n",
            "[18.4  9.4 25.2  2.2]\n",
            "4.6\n",
            "[6.13333333 3.13333333 8.4        0.73333333]\n",
            "[4.675 4.    5.125]\n",
            "[3.2 2.6 7.4 0. ]\n",
            "9.1\n",
            "8.399999999999999\n"
          ]
        },
        {
          "output_type": "error",
          "ename": "AttributeError",
          "evalue": "ignored",
          "traceback": [
            "\u001b[0;31m---------------------------------------------------------------------------\u001b[0m",
            "\u001b[0;31mAttributeError\u001b[0m                            Traceback (most recent call last)",
            "\u001b[0;32m<ipython-input-57-ec614fc44b56>\u001b[0m in \u001b[0;36m<cell line: 47>\u001b[0;34m()\u001b[0m\n\u001b[1;32m     45\u001b[0m \u001b[0mprint\u001b[0m\u001b[0;34m(\u001b[0m\u001b[0mmatrix_alunos\u001b[0m\u001b[0;34m.\u001b[0m\u001b[0mmean\u001b[0m\u001b[0;34m(\u001b[0m\u001b[0maxis\u001b[0m\u001b[0;34m=\u001b[0m\u001b[0;36m1\u001b[0m\u001b[0;34m)\u001b[0m\u001b[0;34m.\u001b[0m\u001b[0mmax\u001b[0m\u001b[0;34m(\u001b[0m\u001b[0;34m)\u001b[0m\u001b[0;34m)\u001b[0m \u001b[0;31m# A maior média dentre os alunos\u001b[0m\u001b[0;34m\u001b[0m\u001b[0;34m\u001b[0m\u001b[0m\n\u001b[1;32m     46\u001b[0m \u001b[0;34m\u001b[0m\u001b[0m\n\u001b[0;32m---> 47\u001b[0;31m \u001b[0mprint\u001b[0m\u001b[0;34m(\u001b[0m\u001b[0mmatrix_alunos\u001b[0m\u001b[0;34m.\u001b[0m\u001b[0mmode\u001b[0m\u001b[0;34m(\u001b[0m\u001b[0;34m)\u001b[0m\u001b[0;34m)\u001b[0m\u001b[0;34m\u001b[0m\u001b[0;34m\u001b[0m\u001b[0m\n\u001b[0m",
            "\u001b[0;31mAttributeError\u001b[0m: 'numpy.ndarray' object has no attribute 'mode'"
          ]
        }
      ]
    },
    {
      "cell_type": "markdown",
      "source": [
        "Relizando operações aritméticas:"
      ],
      "metadata": {
        "id": "4ouCgTnb2qy8"
      }
    },
    {
      "cell_type": "code",
      "source": [],
      "metadata": {
        "id": "jvACuHiv2yNr"
      },
      "execution_count": null,
      "outputs": []
    },
    {
      "cell_type": "markdown",
      "source": [
        "Mas e se tivéssemos cada aluno com múltiplas disciplinas?"
      ],
      "metadata": {
        "id": "kKZM0cGx0okv"
      }
    },
    {
      "cell_type": "code",
      "source": [],
      "metadata": {
        "id": "H6D1PX_r0vEE"
      },
      "execution_count": null,
      "outputs": []
    },
    {
      "cell_type": "markdown",
      "source": [
        "Agora é pra quem gosta de matemática!\n"
      ],
      "metadata": {
        "id": "U4SW_EX11kJM"
      }
    },
    {
      "cell_type": "code",
      "source": [],
      "metadata": {
        "id": "pjhv43tR12N2"
      },
      "execution_count": null,
      "outputs": []
    },
    {
      "cell_type": "markdown",
      "source": [
        "Pra quem gosta de álgebra linear, vamos imaginar uma matriz de pesos e uma matriz de alunos por disciplinas, sendo o conteúdo a média do aluno naquela disciplina:"
      ],
      "metadata": {
        "id": "lIbFnRaV12uk"
      }
    },
    {
      "cell_type": "code",
      "source": [],
      "metadata": {
        "id": "R44LW0_K2c3i"
      },
      "execution_count": null,
      "outputs": []
    },
    {
      "cell_type": "markdown",
      "source": [
        "ATIVIDADE DE FIXAÇÃO 1\n",
        "\n",
        "- Criar um array bidimensional com dados diferentes dos utilizados em sala;\n",
        "- Obter dados estatísticos (pelo menos 3, uma com axis=1, a outra com axis = 0 e a última sem axis);\n",
        "- Obter a transposta da matriz e realizar uma operação com ela\n",
        "- Realizar um produto escalar entre duas matrizes ou de um array com uma matriz\n",
        "- Criar um filtro para a sua matriz\n",
        "- Realizar alguma operação aritmética (número com matriz, array com matriz, etc.)\n",
        "\n",
        "OBS.: Entregar pelo gitlab\n",
        "\n",
        "EXTRA (200XP): Os dados devem vir de algum arquivo externo."
      ],
      "metadata": {
        "id": "XHhJ4iLCuHl3"
      }
    },
    {
      "cell_type": "code",
      "source": [],
      "metadata": {
        "id": "GXmqPCheuMVN"
      },
      "execution_count": null,
      "outputs": []
    }
  ]
}